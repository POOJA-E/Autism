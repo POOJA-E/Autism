{
 "cells": [
  {
   "cell_type": "code",
   "execution_count": 2,
   "metadata": {},
   "outputs": [
    {
     "name": "stdout",
     "output_type": "stream",
     "text": [
      " * Serving Flask app \"__main__\" (lazy loading)\n",
      " * Environment: production\n",
      "   WARNING: This is a development server. Do not use it in a production deployment.\n",
      "   Use a production WSGI server instead.\n",
      " * Debug mode: on\n"
     ]
    },
    {
     "name": "stderr",
     "output_type": "stream",
     "text": [
      " * Restarting with stat\n"
     ]
    },
    {
     "ename": "SystemExit",
     "evalue": "1",
     "output_type": "error",
     "traceback": [
      "An exception has occurred, use %tb to see the full traceback.\n",
      "\u001b[1;31mSystemExit\u001b[0m\u001b[1;31m:\u001b[0m 1\n"
     ]
    },
    {
     "name": "stderr",
     "output_type": "stream",
     "text": [
      "C:\\Users\\POOJA\\AppData\\Local\\Continuum\\anaconda3\\lib\\site-packages\\IPython\\core\\interactiveshell.py:3334: UserWarning: To exit: use 'exit', 'quit', or Ctrl-D.\n",
      "  warn(\"To exit: use 'exit', 'quit', or Ctrl-D.\", stacklevel=1)\n"
     ]
    }
   ],
   "source": [
    "from flask import Flask, render_template, request\n",
    "from flask_debug import Debug\n",
    "\n",
    "from sqlalchemy.orm import sessionmaker\n",
    "\n",
    "import numpy as np\n",
    "import pickle\n",
    "import pandas as pd\n",
    "\n",
    "\n",
    "\n",
    "app = Flask(__name__)\n",
    "\n",
    "\n",
    "\n",
    "@app.route(\"/\")\n",
    "def index():\n",
    "    return render_template(\"home.html\")\n",
    "\n",
    "\n",
    "@app.route('/predict',methods = ['POST'])\n",
    "def predict():\n",
    "    ui = []\n",
    "    \n",
    "    if request.method == 'POST':\n",
    "        ui.append(int(request.form['q1']))\n",
    "        ui.append(int(request.form['q2']))\n",
    "        ui.append(int(request.form['q3']))\n",
    "        ui.append(int(request.form['q4']))\n",
    "        ui.append(int(request.form['q5']))\n",
    "        ui.append(int(request.form['q6']))\n",
    "        ui.append(int(request.form['q7']))\n",
    "        ui.append(int(request.form['q8']))\n",
    "        ui.append(int(request.form['q9']))\n",
    "        ui.append(int(request.form['q10']))\n",
    "        ui.append(int(request.form['q11']))\n",
    "        ui.append(int(request.form['q12']))\n",
    "        ui.append(int(request.form['q13']))\n",
    "        ui.append(int(request.form['q14']))\n",
    "        ui.append(int(request.form['q15']))\n",
    "        print(\"its come to 1 if\")\n",
    "    print(ui)\n",
    "    \n",
    "\n",
    "\n",
    "    l=[]\n",
    "\n",
    "    for i in ui:\n",
    "        l.append(i)\n",
    "    l1=[]\n",
    "    l1.append(l)\n",
    "    print(l1)\n",
    "\n",
    "    rfc=pickle.load(open('rf_train_model.sav', 'rb'))\n",
    "\n",
    "    result = rfc.predict(l1)\n",
    "    print(result)\n",
    "\n",
    "\n",
    "    if result==1:\n",
    "        res=\"The child may have Autism Spectrum Disorder\"\n",
    "    else:\n",
    "        res=\"The child does't have Autism Spectrum Disorder\"\n",
    "    return render_template('result.html',u=res,re=result)\n",
    "\n",
    "if __name__ == '__main__':\n",
    "    app.run(debug=True)\n"
   ]
  },
  {
   "cell_type": "code",
   "execution_count": null,
   "metadata": {},
   "outputs": [],
   "source": []
  },
  {
   "cell_type": "code",
   "execution_count": null,
   "metadata": {},
   "outputs": [],
   "source": []
  }
 ],
 "metadata": {
  "kernelspec": {
   "display_name": "Python 3",
   "language": "python",
   "name": "python3"
  },
  "language_info": {
   "codemirror_mode": {
    "name": "ipython",
    "version": 3
   },
   "file_extension": ".py",
   "mimetype": "text/x-python",
   "name": "python",
   "nbconvert_exporter": "python",
   "pygments_lexer": "ipython3",
   "version": "3.7.4"
  }
 },
 "nbformat": 4,
 "nbformat_minor": 2
}
